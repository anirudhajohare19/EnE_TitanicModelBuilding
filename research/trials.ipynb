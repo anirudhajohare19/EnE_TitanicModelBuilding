{
 "cells": [
  {
   "cell_type": "code",
   "execution_count": null,
   "id": "2950b4bc",
   "metadata": {},
   "outputs": [],
   "source": [
    "# Importing Data manipulation libraries\n",
    "import pandas as pd\n",
    "import numpy as np\n",
    "\n",
    "# Importing visualization libraries\n",
    "import matplotlib.pyplot as plt\n",
    "import seaborn as sns\n",
    "\n",
    "# importing filter warning library\n",
    "import warnings\n",
    "warnings.filterwarnings('ignore')\n",
    "\n",
    "# importing logging library\n",
    "import logging\n",
    "# Setting up logging\n",
    "logging.basicConfig(level=logging.INFO, format='[%(asctime)s]: %(message)s:',\n",
    "                    filemode= 'w',\n",
    "                    filename= 'model.log',\n",
    "                    )"
   ]
  }
 ],
 "metadata": {
  "kernelspec": {
   "display_name": "venv",
   "language": "python",
   "name": "python3"
  },
  "language_info": {
   "name": "python",
   "version": "3.8.20"
  }
 },
 "nbformat": 4,
 "nbformat_minor": 5
}
